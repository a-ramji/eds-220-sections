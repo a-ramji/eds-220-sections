{
 "cells": [
  {
   "cell_type": "markdown",
   "id": "1778cb1c-52ab-4bbc-8650-0a7381601f82",
   "metadata": {},
   "source": [
    "Discussion Week 3\n",
    "\n",
    "Hares Data"
   ]
  }
 ],
 "metadata": {
  "kernelspec": {
   "display_name": "Anaconda 3 (Base)",
   "language": "python",
   "name": "base"
  },
  "language_info": {
   "codemirror_mode": {
    "name": "ipython",
    "version": 3
   },
   "file_extension": ".py",
   "mimetype": "text/x-python",
   "name": "python",
   "nbconvert_exporter": "python",
   "pygments_lexer": "ipython3",
   "version": "3.9.13"
  }
 },
 "nbformat": 4,
 "nbformat_minor": 5
}
